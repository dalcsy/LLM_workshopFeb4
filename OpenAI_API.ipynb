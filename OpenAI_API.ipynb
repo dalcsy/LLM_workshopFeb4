{
 "cells": [
  {
   "cell_type": "code",
   "execution_count": 3,
   "metadata": {},
   "outputs": [],
   "source": [
    "from openai import OpenAI\n",
    "import dotenv\n",
    "import os\n",
    "from rich import print as rprint # for making fancy outputs\n",
    "\n",
    "dotenv.load_dotenv()\n",
    "\n",
    "client = OpenAI()\n",
    "\n",
    "OPENAI_API_KEY = os.getenv(\"OPENAI_API_KEY\")"
   ]
  },
  {
   "cell_type": "code",
   "execution_count": 4,
   "metadata": {},
   "outputs": [
    {
     "name": "stdout",
     "output_type": "stream",
     "text": [
      "Model(id='dall-e-2', created=1698798177, object='model', owned_by='system')\n",
      "Model(id='gpt-4o-mini-2024-07-18', created=1721172717, object='model', owned_by='system')\n",
      "Model(id='gpt-4o-mini', created=1721172741, object='model', owned_by='system')\n",
      "Model(id='tts-1', created=1681940951, object='model', owned_by='openai-internal')\n",
      "Model(id='text-embedding-3-small', created=1705948997, object='model', owned_by='system')\n"
     ]
    }
   ],
   "source": [
    "for model in client.models.list():\n",
    "    print(model)"
   ]
  },
  {
   "cell_type": "code",
   "execution_count": 5,
   "metadata": {},
   "outputs": [],
   "source": [
    "# 读取摘要文件的函数（只取前 5 行，每行最多 50 个字符）\n",
    "def load_abstracts(file_path, num_lines=5, char_limit=50):\n",
    "    \"\"\"从文本文件中读取前 num_lines 行，并限制每行最多 char_limit 个字符\"\"\"\n",
    "    try:\n",
    "        with open(file_path, \"r\", encoding=\"utf-8\") as f:\n",
    "            lines = f.readlines()\n",
    "            # 只取前 num_lines 行，每行最多取 char_limit 个字符\n",
    "            processed_abstracts = [line[:char_limit] for line in lines[:num_lines]]\n",
    "            return \"\\n\".join(processed_abstracts)  # 以换行符拼接成字符串\n",
    "    except FileNotFoundError:\n",
    "        rprint(f\"[bold red]Error:[/bold red] File '{file_path}' not found!\")\n",
    "        return None"
   ]
  },
  {
   "cell_type": "code",
   "execution_count": 6,
   "metadata": {},
   "outputs": [],
   "source": [
    "# 期刊摘要文件\n",
    "journal_files = {\n",
    "    \"American Journal of Human Genetics\": \"American_Journal_of_Human_Genetics_24_only.txt\",\n",
    "    \"BMC Genomics\": \"BMC_genomics_24_only.txt\",\n",
    "    \"Genome Biology\": \"Genome_Biology_24_only.txt\",\n",
    "    \"Human Molecular Genetics\": \"Human_Molecular_Genetics_only.txt\",\n",
    "    \"Nature Genetics\": \"Nature_genetics_24_abstracts_only.txt\"\n",
    "}\n",
    "\n",
    "journal_abstracts = {}"
   ]
  },
  {
   "cell_type": "code",
   "execution_count": 8,
   "metadata": {},
   "outputs": [
    {
     "data": {
      "text/html": [
       "<pre style=\"white-space:pre;overflow-x:auto;line-height:normal;font-family:Menlo,'DejaVu Sans Mono',consolas,'Courier New',monospace\">\n",
       "<span style=\"color: #000080; text-decoration-color: #000080; font-weight: bold\">=== Journal Abstracts Preview (Limited) ===</span>\n",
       "\n",
       "</pre>\n"
      ],
      "text/plain": [
       "\n",
       "\u001b[1;34m=== Journal Abstracts Preview \u001b[0m\u001b[1;34m(\u001b[0m\u001b[1;34mLimited\u001b[0m\u001b[1;34m)\u001b[0m\u001b[1;34m ===\u001b[0m\n",
       "\n"
      ]
     },
     "metadata": {},
     "output_type": "display_data"
    },
    {
     "data": {
      "text/html": [
       "<pre style=\"white-space:pre;overflow-x:auto;line-height:normal;font-family:Menlo,'DejaVu Sans Mono',consolas,'Courier New',monospace\">\n",
       "<span style=\"color: #808000; text-decoration-color: #808000; font-weight: bold\">--- American Journal of Human Genetics ---</span>\n",
       "\n",
       "</pre>\n"
      ],
      "text/plain": [
       "\n",
       "\u001b[1;33m--- American Journal of Human Genetics ---\u001b[0m\n",
       "\n"
      ]
     },
     "metadata": {},
     "output_type": "display_data"
    },
    {
     "data": {
      "text/html": [
       "<pre style=\"white-space:pre;overflow-x:auto;line-height:normal;font-family:Menlo,'DejaVu Sans Mono',consolas,'Courier New',monospace\">A major fraction of loci identified by genome-wide\n",
       "Allele-specific expression plays a crucial role in\n",
       "We use the implementation science framework RE -AI\n",
       "Treatments for neurodegenerative disorders remain \n",
       "Craniofacial phenotyping is critical for both synd\n",
       "</pre>\n"
      ],
      "text/plain": [
       "A major fraction of loci identified by genome-wide\n",
       "Allele-specific expression plays a crucial role in\n",
       "We use the implementation science framework RE -AI\n",
       "Treatments for neurodegenerative disorders remain \n",
       "Craniofacial phenotyping is critical for both synd\n"
      ]
     },
     "metadata": {},
     "output_type": "display_data"
    },
    {
     "data": {
      "text/html": [
       "<pre style=\"white-space:pre;overflow-x:auto;line-height:normal;font-family:Menlo,'DejaVu Sans Mono',consolas,'Courier New',monospace\">\n",
       "----------------------------\n",
       "\n",
       "</pre>\n"
      ],
      "text/plain": [
       "\n",
       "----------------------------\n",
       "\n"
      ]
     },
     "metadata": {},
     "output_type": "display_data"
    },
    {
     "data": {
      "text/html": [
       "<pre style=\"white-space:pre;overflow-x:auto;line-height:normal;font-family:Menlo,'DejaVu Sans Mono',consolas,'Courier New',monospace\">\n",
       "<span style=\"color: #808000; text-decoration-color: #808000; font-weight: bold\">--- BMC Genomics ---</span>\n",
       "\n",
       "</pre>\n"
      ],
      "text/plain": [
       "\n",
       "\u001b[1;33m--- BMC Genomics ---\u001b[0m\n",
       "\n"
      ]
     },
     "metadata": {},
     "output_type": "display_data"
    },
    {
     "data": {
      "text/html": [
       "<pre style=\"white-space:pre;overflow-x:auto;line-height:normal;font-family:Menlo,'DejaVu Sans Mono',consolas,'Courier New',monospace\">Plant genomics plays a pivotal role in enhancing g\n",
       "BackgroundAssembly of metagenomic samples can prov\n",
       "BackgroundThe precise mechanisms leading to the de\n",
       "Background Prion diseases, also known as transmiss\n",
       "Carotenoid cleavage oxygenases <span style=\"font-weight: bold\">(</span>CCOs<span style=\"font-weight: bold\">)</span> enzymes play\n",
       "</pre>\n"
      ],
      "text/plain": [
       "Plant genomics plays a pivotal role in enhancing g\n",
       "BackgroundAssembly of metagenomic samples can prov\n",
       "BackgroundThe precise mechanisms leading to the de\n",
       "Background Prion diseases, also known as transmiss\n",
       "Carotenoid cleavage oxygenases \u001b[1m(\u001b[0mCCOs\u001b[1m)\u001b[0m enzymes play\n"
      ]
     },
     "metadata": {},
     "output_type": "display_data"
    },
    {
     "data": {
      "text/html": [
       "<pre style=\"white-space:pre;overflow-x:auto;line-height:normal;font-family:Menlo,'DejaVu Sans Mono',consolas,'Courier New',monospace\">\n",
       "----------------------------\n",
       "\n",
       "</pre>\n"
      ],
      "text/plain": [
       "\n",
       "----------------------------\n",
       "\n"
      ]
     },
     "metadata": {},
     "output_type": "display_data"
    },
    {
     "data": {
      "text/html": [
       "<pre style=\"white-space:pre;overflow-x:auto;line-height:normal;font-family:Menlo,'DejaVu Sans Mono',consolas,'Courier New',monospace\">\n",
       "<span style=\"color: #808000; text-decoration-color: #808000; font-weight: bold\">--- Genome Biology ---</span>\n",
       "\n",
       "</pre>\n"
      ],
      "text/plain": [
       "\n",
       "\u001b[1;33m--- Genome Biology ---\u001b[0m\n",
       "\n"
      ]
     },
     "metadata": {},
     "output_type": "display_data"
    },
    {
     "data": {
      "text/html": [
       "<pre style=\"white-space:pre;overflow-x:auto;line-height:normal;font-family:Menlo,'DejaVu Sans Mono',consolas,'Courier New',monospace\">The advent of genome-wide ancient DNA analysis has\n",
       "BackgroundDrug targets with genetic evidence are e\n",
       "BackgroundEarly embryonic developmental programs a\n",
       "Copy number alterations <span style=\"font-weight: bold\">(</span>CNAs<span style=\"font-weight: bold\">)</span> are among the most \n",
       "Assembled genome sequences are being generated at \n",
       "</pre>\n"
      ],
      "text/plain": [
       "The advent of genome-wide ancient DNA analysis has\n",
       "BackgroundDrug targets with genetic evidence are e\n",
       "BackgroundEarly embryonic developmental programs a\n",
       "Copy number alterations \u001b[1m(\u001b[0mCNAs\u001b[1m)\u001b[0m are among the most \n",
       "Assembled genome sequences are being generated at \n"
      ]
     },
     "metadata": {},
     "output_type": "display_data"
    },
    {
     "data": {
      "text/html": [
       "<pre style=\"white-space:pre;overflow-x:auto;line-height:normal;font-family:Menlo,'DejaVu Sans Mono',consolas,'Courier New',monospace\">\n",
       "----------------------------\n",
       "\n",
       "</pre>\n"
      ],
      "text/plain": [
       "\n",
       "----------------------------\n",
       "\n"
      ]
     },
     "metadata": {},
     "output_type": "display_data"
    },
    {
     "data": {
      "text/html": [
       "<pre style=\"white-space:pre;overflow-x:auto;line-height:normal;font-family:Menlo,'DejaVu Sans Mono',consolas,'Courier New',monospace\">\n",
       "<span style=\"color: #808000; text-decoration-color: #808000; font-weight: bold\">--- Human Molecular Genetics ---</span>\n",
       "\n",
       "</pre>\n"
      ],
      "text/plain": [
       "\n",
       "\u001b[1;33m--- Human Molecular Genetics ---\u001b[0m\n",
       "\n"
      ]
     },
     "metadata": {},
     "output_type": "display_data"
    },
    {
     "data": {
      "text/html": [
       "<pre style=\"white-space:pre;overflow-x:auto;line-height:normal;font-family:Menlo,'DejaVu Sans Mono',consolas,'Courier New',monospace\">The spinocerebellar ataxias <span style=\"font-weight: bold\">(</span>SCAs<span style=\"font-weight: bold\">)</span> are a genetical\n",
       "Mutations in Cytosolic Carboxypeptidase-like Prote\n",
       "Alterations in Dp71 expression, the most ubiquitou\n",
       "Developmental and functional defects in the lympha\n",
       "Age-related macular degeneration <span style=\"font-weight: bold\">(</span>AMD<span style=\"font-weight: bold\">)</span> is the lead\n",
       "</pre>\n"
      ],
      "text/plain": [
       "The spinocerebellar ataxias \u001b[1m(\u001b[0mSCAs\u001b[1m)\u001b[0m are a genetical\n",
       "Mutations in Cytosolic Carboxypeptidase-like Prote\n",
       "Alterations in Dp71 expression, the most ubiquitou\n",
       "Developmental and functional defects in the lympha\n",
       "Age-related macular degeneration \u001b[1m(\u001b[0mAMD\u001b[1m)\u001b[0m is the lead\n"
      ]
     },
     "metadata": {},
     "output_type": "display_data"
    },
    {
     "data": {
      "text/html": [
       "<pre style=\"white-space:pre;overflow-x:auto;line-height:normal;font-family:Menlo,'DejaVu Sans Mono',consolas,'Courier New',monospace\">\n",
       "----------------------------\n",
       "\n",
       "</pre>\n"
      ],
      "text/plain": [
       "\n",
       "----------------------------\n",
       "\n"
      ]
     },
     "metadata": {},
     "output_type": "display_data"
    },
    {
     "data": {
      "text/html": [
       "<pre style=\"white-space:pre;overflow-x:auto;line-height:normal;font-family:Menlo,'DejaVu Sans Mono',consolas,'Courier New',monospace\">\n",
       "<span style=\"color: #808000; text-decoration-color: #808000; font-weight: bold\">--- Nature Genetics ---</span>\n",
       "\n",
       "</pre>\n"
      ],
      "text/plain": [
       "\n",
       "\u001b[1;33m--- Nature Genetics ---\u001b[0m\n",
       "\n"
      ]
     },
     "metadata": {},
     "output_type": "display_data"
    },
    {
     "data": {
      "text/html": [
       "<pre style=\"white-space:pre;overflow-x:auto;line-height:normal;font-family:Menlo,'DejaVu Sans Mono',consolas,'Courier New',monospace\">Kidneys are intricate three-dimensional structures\n",
       "Somatic cells accumulate genomic alterations with \n",
       "Humans display remarkable interindividual variatio\n",
       "Acquiring a sufficiently powered cohort of control\n",
       "Eukaryotic transcription factors <span style=\"font-weight: bold\">(</span>TFs<span style=\"font-weight: bold\">)</span> activate ge\n",
       "</pre>\n"
      ],
      "text/plain": [
       "Kidneys are intricate three-dimensional structures\n",
       "Somatic cells accumulate genomic alterations with \n",
       "Humans display remarkable interindividual variatio\n",
       "Acquiring a sufficiently powered cohort of control\n",
       "Eukaryotic transcription factors \u001b[1m(\u001b[0mTFs\u001b[1m)\u001b[0m activate ge\n"
      ]
     },
     "metadata": {},
     "output_type": "display_data"
    },
    {
     "data": {
      "text/html": [
       "<pre style=\"white-space:pre;overflow-x:auto;line-height:normal;font-family:Menlo,'DejaVu Sans Mono',consolas,'Courier New',monospace\">\n",
       "----------------------------\n",
       "\n",
       "</pre>\n"
      ],
      "text/plain": [
       "\n",
       "----------------------------\n",
       "\n"
      ]
     },
     "metadata": {},
     "output_type": "display_data"
    }
   ],
   "source": [
    "# 读取每个期刊摘要的前 5 行，每行最多 50 个字符\n",
    "rprint(\"\\n[bold blue]=== Journal Abstracts Preview (Limited) ===[/bold blue]\\n\")\n",
    "for journal, file_path in journal_files.items():\n",
    "    abstracts = load_abstracts(file_path)\n",
    "    if abstracts:\n",
    "        journal_abstracts[journal] = abstracts\n",
    "        rprint(f\"\\n[bold yellow]--- {journal} ---[/bold yellow]\\n\")\n",
    "        rprint(abstracts)  # 打印处理后的摘要\n",
    "        rprint(\"\\n----------------------------\\n\")"
   ]
  },
  {
   "cell_type": "code",
   "execution_count": 9,
   "metadata": {},
   "outputs": [],
   "source": [
    "# 确保所有文件都成功加载\n",
    "if not all(journal_abstracts.values()):\n",
    "    rprint(\"\\n[bold red]Error:[/bold red] Some journal abstract files were not loaded properly. Check the file paths and try again.\")\n",
    "    exit()\n"
   ]
  },
  {
   "cell_type": "code",
   "execution_count": 10,
   "metadata": {},
   "outputs": [
    {
     "ename": "KeyboardInterrupt",
     "evalue": "Interrupted by user",
     "output_type": "error",
     "traceback": [
      "\u001b[0;31m---------------------------------------------------------------------------\u001b[0m",
      "\u001b[0;31mKeyboardInterrupt\u001b[0m                         Traceback (most recent call last)",
      "Cell \u001b[0;32mIn[10], line 2\u001b[0m\n\u001b[1;32m      1\u001b[0m \u001b[38;5;66;03m# 让用户输入自己的摘要\u001b[39;00m\n\u001b[0;32m----> 2\u001b[0m your_abstract \u001b[38;5;241m=\u001b[39m \u001b[38;5;28;43minput\u001b[39;49m\u001b[43m(\u001b[49m\u001b[38;5;124;43m\"\u001b[39;49m\u001b[38;5;130;43;01m\\n\u001b[39;49;00m\u001b[38;5;124;43m[bold green]Enter your abstract:[/bold green]\u001b[39;49m\u001b[38;5;130;43;01m\\n\u001b[39;49;00m\u001b[38;5;124;43m\"\u001b[39;49m\u001b[43m)\u001b[49m\n",
      "File \u001b[0;32m~/.local/lib/python3.12/site-packages/ipykernel/kernelbase.py:1282\u001b[0m, in \u001b[0;36mKernel.raw_input\u001b[0;34m(self, prompt)\u001b[0m\n\u001b[1;32m   1280\u001b[0m     msg \u001b[38;5;241m=\u001b[39m \u001b[38;5;124m\"\u001b[39m\u001b[38;5;124mraw_input was called, but this frontend does not support input requests.\u001b[39m\u001b[38;5;124m\"\u001b[39m\n\u001b[1;32m   1281\u001b[0m     \u001b[38;5;28;01mraise\u001b[39;00m StdinNotImplementedError(msg)\n\u001b[0;32m-> 1282\u001b[0m \u001b[38;5;28;01mreturn\u001b[39;00m \u001b[38;5;28;43mself\u001b[39;49m\u001b[38;5;241;43m.\u001b[39;49m\u001b[43m_input_request\u001b[49m\u001b[43m(\u001b[49m\n\u001b[1;32m   1283\u001b[0m \u001b[43m    \u001b[49m\u001b[38;5;28;43mstr\u001b[39;49m\u001b[43m(\u001b[49m\u001b[43mprompt\u001b[49m\u001b[43m)\u001b[49m\u001b[43m,\u001b[49m\n\u001b[1;32m   1284\u001b[0m \u001b[43m    \u001b[49m\u001b[38;5;28;43mself\u001b[39;49m\u001b[38;5;241;43m.\u001b[39;49m\u001b[43m_parent_ident\u001b[49m\u001b[43m[\u001b[49m\u001b[38;5;124;43m\"\u001b[39;49m\u001b[38;5;124;43mshell\u001b[39;49m\u001b[38;5;124;43m\"\u001b[39;49m\u001b[43m]\u001b[49m\u001b[43m,\u001b[49m\n\u001b[1;32m   1285\u001b[0m \u001b[43m    \u001b[49m\u001b[38;5;28;43mself\u001b[39;49m\u001b[38;5;241;43m.\u001b[39;49m\u001b[43mget_parent\u001b[49m\u001b[43m(\u001b[49m\u001b[38;5;124;43m\"\u001b[39;49m\u001b[38;5;124;43mshell\u001b[39;49m\u001b[38;5;124;43m\"\u001b[39;49m\u001b[43m)\u001b[49m\u001b[43m,\u001b[49m\n\u001b[1;32m   1286\u001b[0m \u001b[43m    \u001b[49m\u001b[43mpassword\u001b[49m\u001b[38;5;241;43m=\u001b[39;49m\u001b[38;5;28;43;01mFalse\u001b[39;49;00m\u001b[43m,\u001b[49m\n\u001b[1;32m   1287\u001b[0m \u001b[43m\u001b[49m\u001b[43m)\u001b[49m\n",
      "File \u001b[0;32m~/.local/lib/python3.12/site-packages/ipykernel/kernelbase.py:1325\u001b[0m, in \u001b[0;36mKernel._input_request\u001b[0;34m(self, prompt, ident, parent, password)\u001b[0m\n\u001b[1;32m   1322\u001b[0m \u001b[38;5;28;01mexcept\u001b[39;00m \u001b[38;5;167;01mKeyboardInterrupt\u001b[39;00m:\n\u001b[1;32m   1323\u001b[0m     \u001b[38;5;66;03m# re-raise KeyboardInterrupt, to truncate traceback\u001b[39;00m\n\u001b[1;32m   1324\u001b[0m     msg \u001b[38;5;241m=\u001b[39m \u001b[38;5;124m\"\u001b[39m\u001b[38;5;124mInterrupted by user\u001b[39m\u001b[38;5;124m\"\u001b[39m\n\u001b[0;32m-> 1325\u001b[0m     \u001b[38;5;28;01mraise\u001b[39;00m \u001b[38;5;167;01mKeyboardInterrupt\u001b[39;00m(msg) \u001b[38;5;28;01mfrom\u001b[39;00m \u001b[38;5;28;01mNone\u001b[39;00m\n\u001b[1;32m   1326\u001b[0m \u001b[38;5;28;01mexcept\u001b[39;00m \u001b[38;5;167;01mException\u001b[39;00m:\n\u001b[1;32m   1327\u001b[0m     \u001b[38;5;28mself\u001b[39m\u001b[38;5;241m.\u001b[39mlog\u001b[38;5;241m.\u001b[39mwarning(\u001b[38;5;124m\"\u001b[39m\u001b[38;5;124mInvalid Message:\u001b[39m\u001b[38;5;124m\"\u001b[39m, exc_info\u001b[38;5;241m=\u001b[39m\u001b[38;5;28;01mTrue\u001b[39;00m)\n",
      "\u001b[0;31mKeyboardInterrupt\u001b[0m: Interrupted by user"
     ]
    }
   ],
   "source": [
    "# 让用户输入自己的摘要\n",
    "your_abstract = input(\"\\n[bold green]Enter your abstract:[/bold green]\\n\")"
   ]
  },
  {
   "cell_type": "code",
   "execution_count": null,
   "metadata": {},
   "outputs": [],
   "source": [
    "# 构造 GPT-4o-mini 的 Prompt\n",
    "analysis_prompt = f\"\"\"\n",
    "You are an experienced academic journal editor. Below are shortened abstracts from five different journals, along with a research abstract.\n",
    "Your task is to evaluate which journal is the best fit for the given abstract and provide suitability scores (in percentage) for each journal.\n",
    "\n",
    "**Research Abstract to Evaluate:**\n",
    "{your_abstract}\n",
    "\n",
    "**Shortened Journal Abstracts (First 5 entries, first 50 chars each):**\n",
    "{journal_abstracts}\n",
    "\n",
    "Please analyze this abstract and return a JSON-formatted response:\n",
    "{{\n",
    "    \"Best Journal\": \"XXX\",\n",
    "    \"Suitability Scores\": {{\n",
    "        \"Nature Genetics\": xxx,\n",
    "        \"American Journal of Human Genetics\": xxx,\n",
    "        \"Genome Biology\": xxx,\n",
    "        \"Human Molecular Genetics\": xxx,\n",
    "        \"BMC Genomics\": xxx\n",
    "    }}\n",
    "}}\n",
    "\"\"\"\n"
   ]
  },
  {
   "cell_type": "code",
   "execution_count": null,
   "metadata": {},
   "outputs": [],
   "source": [
    "# 调用 OpenAI API 进行摘要匹配\n",
    "response = client.chat.completions.create(\n",
    "    model=\"gpt-4o-mini\",\n",
    "    messages=[\n",
    "        {\"role\": \"system\", \"content\": \"You are a seasoned journal editor specializing in evaluating abstracts for academic publications.\"},\n",
    "        {\"role\": \"user\", \"content\": analysis_prompt}\n",
    "    ],\n",
    "    max_tokens=256\n",
    ")"
   ]
  },
  {
   "cell_type": "code",
   "execution_count": null,
   "metadata": {},
   "outputs": [],
   "source": [
    "# 提取 OpenAI 的分析结果\n",
    "gpt_analysis = response.choices[0].message.content"
   ]
  },
  {
   "cell_type": "code",
   "execution_count": null,
   "metadata": {},
   "outputs": [],
   "source": [
    "# 打印最终分析结果\n",
    "rprint(\"\\n[bold blue]=== GPT-4o-mini Analysis Result ===[/bold blue]\\n\")\n",
    "rprint(gpt_analysis)"
   ]
  }
 ],
 "metadata": {
  "kernelspec": {
   "display_name": "Python 3",
   "language": "python",
   "name": "python3"
  },
  "language_info": {
   "codemirror_mode": {
    "name": "ipython",
    "version": 3
   },
   "file_extension": ".py",
   "mimetype": "text/x-python",
   "name": "python",
   "nbconvert_exporter": "python",
   "pygments_lexer": "ipython3",
   "version": "3.12.1"
  }
 },
 "nbformat": 4,
 "nbformat_minor": 2
}
